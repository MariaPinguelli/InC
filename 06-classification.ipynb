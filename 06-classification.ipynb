{
 "cells": [
  {
   "attachments": {},
   "cell_type": "markdown",
   "id": "c171afe3",
   "metadata": {},
   "source": [
    "# Classificação e rotulação dos dados\n",
    "\n",
    "Com as atividades realizadas nos notebooks anteriores, já é mais do que possível aplicarmos um classificador simples para testarmos nossos dados. Nesta aula vamos aplicar o classificador SVM (*Support Vector Machine*) que pode nos mostrar bons resultados (se levarmos em consideração trabalhos relacionados da área).\n",
    "\n",
    "Após a primeira impressão do classificador, já é possível revisitarmos passos anteriores para alterá-los, a fim de buscar melhores resultados de acurácia do classificador. Sugere que este seja um primeiro desafio após a implementação do classificador.\n",
    "\n",
    "Inicialmente, temos que desenvolver o vetor de rótulos que está relacionado com os nossos dados."
   ]
  },
  {
   "attachments": {},
   "cell_type": "markdown",
   "id": "bfd5abc5",
   "metadata": {},
   "source": [
    "## Criação do vetor de rótulos\n",
    "\n",
    "Primeiro iremos verificar se foram concatenados amostras das 10 classes consecutivas (1) ou então os 6 trials de cada movimento consecutivos. Ex.:\n",
    "\n",
    "1. 1,2,3,4,5,6,7,8,9,10,1,2,3,4,5,6,7,8,9,10,...\n",
    "2. 1,1,1,1,1,1,1,1,1,1,2,2,2,2,2,2,2,2,2,2,3,...\n",
    "\n",
    "Em nosso caso, os dados estão como implicitamente rotulados como na sequência (1)."
   ]
  },
  {
   "cell_type": "code",
   "execution_count": 40,
   "id": "d4d06222",
   "metadata": {},
   "outputs": [
    {
     "data": {
      "text/plain": [
       "(60, 41, 2, 4)"
      ]
     },
     "execution_count": 40,
     "metadata": {},
     "output_type": "execute_result"
    }
   ],
   "source": [
    "# carregamento de dados dos anteriores\n",
    "\n",
    "import numpy as np\n",
    "\n",
    "X = np.load('temp_data/khushaba_feat.npy')\n",
    "X.shape"
   ]
  },
  {
   "attachments": {},
   "cell_type": "markdown",
   "id": "56053579",
   "metadata": {},
   "source": [
    "Após o carregamento dos dados anteriores, vamos obter o último objeto de dados, **reorganizá-lo** quanto ao seu `shape` e criar o vetor de rótulos."
   ]
  },
  {
   "cell_type": "code",
   "execution_count": 41,
   "id": "05f43b38",
   "metadata": {},
   "outputs": [
    {
     "name": "stdout",
     "output_type": "stream",
     "text": [
      "classes + trials, amostras, canais, características\n"
     ]
    },
    {
     "data": {
      "text/plain": [
       "(60, 41, 2, 4)"
      ]
     },
     "execution_count": 41,
     "metadata": {},
     "output_type": "execute_result"
    }
   ],
   "source": [
    "# original:\n",
    "\n",
    "print('classes + trials, amostras, canais, características')\n",
    "X.shape"
   ]
  },
  {
   "cell_type": "code",
   "execution_count": 42,
   "id": "bdc60e82",
   "metadata": {},
   "outputs": [
    {
     "name": "stdout",
     "output_type": "stream",
     "text": [
      "X final: (2460, 8)\n"
     ]
    }
   ],
   "source": [
    "s = X.shape\n",
    "X = X.reshape(s[0] * s[1], s[2] * s[3])\n",
    "print('X final:', X.shape)\n",
    "# salvamento dos dados\n",
    "np.save('temp_data/khushaba_feat.npy', X)"
   ]
  },
  {
   "cell_type": "code",
   "execution_count": 43,
   "id": "88c86ea8",
   "metadata": {},
   "outputs": [
    {
     "name": "stdout",
     "output_type": "stream",
     "text": [
      "Shape dos rótulos: (2460,)\n"
     ]
    }
   ],
   "source": [
    "# criação dos rótulos\n",
    "\n",
    "# 1,1,1,1,1,1,1,1,1,1,...,2,2,2,2,2,2,2,2,2,2,...,3,...\n",
    "\n",
    "y = [[i] * int(X.shape[0] / 10) for i in range(10)]\n",
    "y = np.array(y).flatten()\n",
    "\n",
    "print('Shape dos rótulos:', y.shape)\n",
    "# salvamento dos rótulos\n",
    "np.save('temp_data/khushaba_lab.npy', y)"
   ]
  },
  {
   "attachments": {},
   "cell_type": "markdown",
   "id": "d1d0c1e6",
   "metadata": {},
   "source": [
    "## Aplicação do classificador SVM\n",
    "\n",
    "O primeiro passo é dividir os dados em conjuntos de treinamento e teste. Para isso, utilizamos a ferramenta `train_test_split` da biblioteca `scikit-learn`. Após esta divisão, criamos um modelo SVM com os dados de treino, utilizando os parâmetros padrões do classificador e o testamos (com os dados de teste)."
   ]
  },
  {
   "cell_type": "code",
   "execution_count": 44,
   "id": "9fee3e34",
   "metadata": {},
   "outputs": [],
   "source": [
    "from sklearn.model_selection import train_test_split\n",
    "from sklearn.svm import SVC\n",
    "\n",
    "# dividindo as porções de dados em treino e teste (70 e 30% respectivamente)\n",
    "# com embaralhamento sempre ativo (shuffle=True)\n",
    "X_train, X_test, y_train, y_test = train_test_split(X, y, test_size=0.3, shuffle=True)"
   ]
  },
  {
   "cell_type": "code",
   "execution_count": 45,
   "id": "6bba326f",
   "metadata": {},
   "outputs": [
    {
     "data": {
      "text/html": [
       "<style>#sk-container-id-5 {color: black;background-color: white;}#sk-container-id-5 pre{padding: 0;}#sk-container-id-5 div.sk-toggleable {background-color: white;}#sk-container-id-5 label.sk-toggleable__label {cursor: pointer;display: block;width: 100%;margin-bottom: 0;padding: 0.3em;box-sizing: border-box;text-align: center;}#sk-container-id-5 label.sk-toggleable__label-arrow:before {content: \"▸\";float: left;margin-right: 0.25em;color: #696969;}#sk-container-id-5 label.sk-toggleable__label-arrow:hover:before {color: black;}#sk-container-id-5 div.sk-estimator:hover label.sk-toggleable__label-arrow:before {color: black;}#sk-container-id-5 div.sk-toggleable__content {max-height: 0;max-width: 0;overflow: hidden;text-align: left;background-color: #f0f8ff;}#sk-container-id-5 div.sk-toggleable__content pre {margin: 0.2em;color: black;border-radius: 0.25em;background-color: #f0f8ff;}#sk-container-id-5 input.sk-toggleable__control:checked~div.sk-toggleable__content {max-height: 200px;max-width: 100%;overflow: auto;}#sk-container-id-5 input.sk-toggleable__control:checked~label.sk-toggleable__label-arrow:before {content: \"▾\";}#sk-container-id-5 div.sk-estimator input.sk-toggleable__control:checked~label.sk-toggleable__label {background-color: #d4ebff;}#sk-container-id-5 div.sk-label input.sk-toggleable__control:checked~label.sk-toggleable__label {background-color: #d4ebff;}#sk-container-id-5 input.sk-hidden--visually {border: 0;clip: rect(1px 1px 1px 1px);clip: rect(1px, 1px, 1px, 1px);height: 1px;margin: -1px;overflow: hidden;padding: 0;position: absolute;width: 1px;}#sk-container-id-5 div.sk-estimator {font-family: monospace;background-color: #f0f8ff;border: 1px dotted black;border-radius: 0.25em;box-sizing: border-box;margin-bottom: 0.5em;}#sk-container-id-5 div.sk-estimator:hover {background-color: #d4ebff;}#sk-container-id-5 div.sk-parallel-item::after {content: \"\";width: 100%;border-bottom: 1px solid gray;flex-grow: 1;}#sk-container-id-5 div.sk-label:hover label.sk-toggleable__label {background-color: #d4ebff;}#sk-container-id-5 div.sk-serial::before {content: \"\";position: absolute;border-left: 1px solid gray;box-sizing: border-box;top: 0;bottom: 0;left: 50%;z-index: 0;}#sk-container-id-5 div.sk-serial {display: flex;flex-direction: column;align-items: center;background-color: white;padding-right: 0.2em;padding-left: 0.2em;position: relative;}#sk-container-id-5 div.sk-item {position: relative;z-index: 1;}#sk-container-id-5 div.sk-parallel {display: flex;align-items: stretch;justify-content: center;background-color: white;position: relative;}#sk-container-id-5 div.sk-item::before, #sk-container-id-5 div.sk-parallel-item::before {content: \"\";position: absolute;border-left: 1px solid gray;box-sizing: border-box;top: 0;bottom: 0;left: 50%;z-index: -1;}#sk-container-id-5 div.sk-parallel-item {display: flex;flex-direction: column;z-index: 1;position: relative;background-color: white;}#sk-container-id-5 div.sk-parallel-item:first-child::after {align-self: flex-end;width: 50%;}#sk-container-id-5 div.sk-parallel-item:last-child::after {align-self: flex-start;width: 50%;}#sk-container-id-5 div.sk-parallel-item:only-child::after {width: 0;}#sk-container-id-5 div.sk-dashed-wrapped {border: 1px dashed gray;margin: 0 0.4em 0.5em 0.4em;box-sizing: border-box;padding-bottom: 0.4em;background-color: white;}#sk-container-id-5 div.sk-label label {font-family: monospace;font-weight: bold;display: inline-block;line-height: 1.2em;}#sk-container-id-5 div.sk-label-container {text-align: center;}#sk-container-id-5 div.sk-container {/* jupyter's `normalize.less` sets `[hidden] { display: none; }` but bootstrap.min.css set `[hidden] { display: none !important; }` so we also need the `!important` here to be able to override the default hidden behavior on the sphinx rendered scikit-learn.org. See: https://github.com/scikit-learn/scikit-learn/issues/21755 */display: inline-block !important;position: relative;}#sk-container-id-5 div.sk-text-repr-fallback {display: none;}</style><div id=\"sk-container-id-5\" class=\"sk-top-container\"><div class=\"sk-text-repr-fallback\"><pre>SVC()</pre><b>In a Jupyter environment, please rerun this cell to show the HTML representation or trust the notebook. <br />On GitHub, the HTML representation is unable to render, please try loading this page with nbviewer.org.</b></div><div class=\"sk-container\" hidden><div class=\"sk-item\"><div class=\"sk-estimator sk-toggleable\"><input class=\"sk-toggleable__control sk-hidden--visually\" id=\"sk-estimator-id-5\" type=\"checkbox\" checked><label for=\"sk-estimator-id-5\" class=\"sk-toggleable__label sk-toggleable__label-arrow\">SVC</label><div class=\"sk-toggleable__content\"><pre>SVC()</pre></div></div></div></div></div>"
      ],
      "text/plain": [
       "SVC()"
      ]
     },
     "execution_count": 45,
     "metadata": {},
     "output_type": "execute_result"
    }
   ],
   "source": [
    "# modelo de classificador com os parâmetros padrões\n",
    "\n",
    "clf = SVC(kernel='rbf', gamma='scale')\n",
    "\n",
    "# criando o modelo de classificação com os dados de treino\n",
    "clf.fit(X_train, y_train)"
   ]
  },
  {
   "cell_type": "code",
   "execution_count": 46,
   "id": "d1639026",
   "metadata": {},
   "outputs": [
    {
     "name": "stdout",
     "output_type": "stream",
     "text": [
      "Acurácia: 62.87%\n"
     ]
    }
   ],
   "source": [
    "# aplicando o classificador nos dados de teste\n",
    "res = clf.predict(X_test)\n",
    "\n",
    "# obtendo e ajustando os resultados \n",
    "tot_hit = sum([1 for i in range(len(res)) if res[i] == y_test[i]])\n",
    "print('Acurácia: {:.2f}%'.format(tot_hit / X_test.shape[0] * 100))"
   ]
  },
  {
   "cell_type": "code",
   "execution_count": null,
   "id": "88ef7744",
   "metadata": {},
   "outputs": [],
   "source": []
  }
 ],
 "metadata": {
  "kernelspec": {
   "display_name": "Python 3 (ipykernel)",
   "language": "python",
   "name": "python3"
  },
  "language_info": {
   "codemirror_mode": {
    "name": "ipython",
    "version": 3
   },
   "file_extension": ".py",
   "mimetype": "text/x-python",
   "name": "python",
   "nbconvert_exporter": "python",
   "pygments_lexer": "ipython3",
   "version": "3.11.2"
  }
 },
 "nbformat": 4,
 "nbformat_minor": 5
}
